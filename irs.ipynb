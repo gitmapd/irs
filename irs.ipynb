{
 "cells": [
  {
   "cell_type": "markdown",
   "id": "60f1d28e",
   "metadata": {},
   "source": [
    "There are 4 main categories:\n",
    "\n",
    "Category A\n",
    "Category B\n",
    "Category F\n",
    "Category H\n",
    "\n",
    "There can be one or two persons, so it will have to ask for amounts.\n",
    "\n",
    "Lets say for example input(\"What is the amount you made?\") if per year proceed to another situation if not it has to multiply by 14 (14 payment months)\n",
    "Then it will have to ask what category that amount will be for.\n",
    "There's a bunch other situations.\n",
    "\n"
   ]
  }
 ],
 "metadata": {
  "kernelspec": {
   "display_name": "Python 3",
   "language": "python",
   "name": "python3"
  },
  "language_info": {
   "codemirror_mode": {
    "name": "ipython",
    "version": 3
   },
   "file_extension": ".py",
   "mimetype": "text/x-python",
   "name": "python",
   "nbconvert_exporter": "python",
   "pygments_lexer": "ipython3",
   "version": "3.8.10"
  }
 },
 "nbformat": 4,
 "nbformat_minor": 5
}
